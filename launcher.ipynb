{
 "cells": [
  {
   "cell_type": "code",
   "execution_count": 10,
   "metadata": {},
   "outputs": [
    {
     "data": {
      "text/plain": [
       "<Popen: returncode: None args: 'start \"wavelet_handler\" cmd /k python wavele...>"
      ]
     },
     "execution_count": 10,
     "metadata": {},
     "output_type": "execute_result"
    }
   ],
   "source": [
    "#WV processing\n",
    "import subprocess\n",
    "\n",
    "c = f'-ep \"PATH_TO_SETUP.eddypro\"'\n",
    "subprocess.Popen(f'start \"wavelet_handler\" cmd /k python wavelet_handler.py {c}', shell=True)"
   ]
  }
 ],
 "metadata": {
  "kernelspec": {
   "display_name": "wavec",
   "language": "python",
   "name": "python3"
  },
  "language_info": {
   "codemirror_mode": {
    "name": "ipython",
    "version": 3
   },
   "file_extension": ".py",
   "mimetype": "text/x-python",
   "name": "python",
   "nbconvert_exporter": "python",
   "pygments_lexer": "ipython3",
   "version": "3.12.3"
  }
 },
 "nbformat": 4,
 "nbformat_minor": 2
}
