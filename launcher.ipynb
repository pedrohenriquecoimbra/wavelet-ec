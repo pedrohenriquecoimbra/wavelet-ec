{
 "cells": [
  {
   "cell_type": "code",
   "execution_count": 10,
   "metadata": {},
   "outputs": [
    {
     "data": {
      "text/plain": [
       "<Popen: returncode: None args: 'start \"wavelet_handler\" cmd /k python wavele...>"
      ]
     },
     "execution_count": 10,
     "metadata": {},
     "output_type": "execute_result"
    }
   ],
   "source": [
    "#WV processing\n",
    "import subprocess\n",
    "p = \"C:/Users/phherigcoimb/OneDrive/INRAe/papers/picarro flux 2023/coimbra-et-al-picarro-flux/data/SAC\"\n",
    "\n",
    "c = f'-ep \"{p}/input/eddypro/SACLAY - PICARRO.eddypro\"'\n",
    "c += f' -m \"{p}/input/eddypro/saclay - PICARRO.metadata\"'\n",
    "c += f' -i \"{p}/output/eddypro_output/30MIN_2R/PICARRO/\"'\n",
    "c += f' -o \"{p}/output/eddypro_output/30MIN_2R/PICARRO/wavelet_flux_nodeadband/\"'\n",
    "c += ' -v w u v ts co2 co ch4'\n",
    "c += ' --datetimerange 202307010000-202401300000'\n",
    "c += ' --run 0'\n",
    "c += ' --denoise 0'\n",
    "subprocess.Popen(f'start \"wavelet_handler\" cmd /k python wavelet_handler.py {c}', shell=True)"
   ]
  }
 ],
 "metadata": {
  "kernelspec": {
   "display_name": "wavec",
   "language": "python",
   "name": "python3"
  },
  "language_info": {
   "codemirror_mode": {
    "name": "ipython",
    "version": 3
   },
   "file_extension": ".py",
   "mimetype": "text/x-python",
   "name": "python",
   "nbconvert_exporter": "python",
   "pygments_lexer": "ipython3",
   "version": "3.12.3"
  }
 },
 "nbformat": 4,
 "nbformat_minor": 2
}
